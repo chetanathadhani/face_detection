{
 "cells": [
  {
   "cell_type": "code",
   "execution_count": 9,
   "metadata": {},
   "outputs": [],
   "source": [
    "import numpy as np\n",
    "import cv2"
   ]
  },
  {
   "cell_type": "code",
   "execution_count": 10,
   "metadata": {},
   "outputs": [],
   "source": [
    "# we point open cv's cascadeclassifier function to where our classifier(xml file format) is stored\n",
    "face_classifier = cv2.CascadeClassifier('D:/python/datasets/images/haarcascade_frontalface_default.xml')"
   ]
  },
  {
   "cell_type": "code",
   "execution_count": 11,
   "metadata": {},
   "outputs": [],
   "source": [
    "# load out image then convert it to gray scale\n",
    "image = cv2.imread('D:/python/datasets/images/faceswap.jpg')\n",
    "gray = cv2.cvtColor(image, cv2.COLOR_BGR2GRAY)"
   ]
  },
  {
   "cell_type": "code",
   "execution_count": 12,
   "metadata": {},
   "outputs": [],
   "source": [
    "# our classifier returns the ROI of the detected face as a tuple\n",
    "# it stores the top left coordinate and bottom right coordinate\n",
    "faces = face_classifier.detectMultiScale(gray, 2.5, 6)"
   ]
  },
  {
   "cell_type": "code",
   "execution_count": 13,
   "metadata": {},
   "outputs": [],
   "source": [
    "# when no faces detected, face_classifier returns and empty\n",
    "if faces is():\n",
    "    print(\"No Faces Found\")"
   ]
  },
  {
   "cell_type": "code",
   "execution_count": 15,
   "metadata": {},
   "outputs": [],
   "source": [
    "#we iterate through our faces array and draw a rectangele over each face in faces\n",
    "for(x,y,w,h) in faces:\n",
    "    cv2.rectangle(image, (x,h), (x+w,y+h), (127,0,255), 2)\n",
    "    cv2.imshow('face Detection', image)\n",
    "    cv2.waitKey(0)\n",
    "\n",
    "cv2.destroyAllWindows()"
   ]
  },
  {
   "cell_type": "markdown",
   "metadata": {},
   "source": [
    "# gray scaling"
   ]
  },
  {
   "cell_type": "code",
   "execution_count": 1,
   "metadata": {},
   "outputs": [],
   "source": [
    "import cv2"
   ]
  },
  {
   "cell_type": "code",
   "execution_count": 8,
   "metadata": {},
   "outputs": [],
   "source": [
    "#load our input image\n",
    "image = cv2.imread('input33.jpg')\n",
    "cv2.imshow('Original', image)\n",
    "cv2.waitKey()\n",
    "\n",
    "# we use cvt color to convert to gray scale\n",
    "gray_image = cv2.cvtColor(image, cv2.COLOR_BGR2GRAY)\n",
    "cv2.imshow('GrayScale', gray_image)\n",
    "cv2.waitKey()\n",
    "cv2.destroyAllWindows()"
   ]
  },
  {
   "cell_type": "code",
   "execution_count": 19,
   "metadata": {},
   "outputs": [],
   "source": [
    "# another method faster method\n",
    "img = cv2.imread('input33.jpg',0)#0 is for gray image nd 1 is for colored image\n",
    "cv2.imshow('GrayScale',img)\n",
    "cv2.waitKey()\n",
    "cv2.destroyAllWindows()\n"
   ]
  },
  {
   "cell_type": "markdown",
   "metadata": {},
   "source": [
    "# converting multiple images to gray scale"
   ]
  },
  {
   "cell_type": "code",
   "execution_count": 29,
   "metadata": {},
   "outputs": [
    {
     "ename": "SyntaxError",
     "evalue": "(unicode error) 'unicodeescape' codec can't decode bytes in position 2-3: truncated \\UXXXXXXXX escape (<ipython-input-29-5a38f2cc3416>, line 8)",
     "output_type": "error",
     "traceback": [
      "\u001b[1;36m  File \u001b[1;32m\"<ipython-input-29-5a38f2cc3416>\"\u001b[1;36m, line \u001b[1;32m8\u001b[0m\n\u001b[1;33m    path='C:\\Users\\Chetana\\Desktop\\ppp'\u001b[0m\n\u001b[1;37m        ^\u001b[0m\n\u001b[1;31mSyntaxError\u001b[0m\u001b[1;31m:\u001b[0m (unicode error) 'unicodeescape' codec can't decode bytes in position 2-3: truncated \\UXXXXXXXX escape\n"
     ]
    }
   ],
   "source": [
    "import glob\n",
    "import cv2\n",
    "import os\n",
    "import numpy as np\n",
    "from PIL import Image\n",
    "images=[]\n",
    "images=np.array(images)\n",
    "path='C:\\Users\\Chetana\\Desktop\\ppp'\n",
    "count=0\n",
    "images = [cv2.imread(file,0) for file in glob.glob(\"C:\\Users\\Chetana\\Desktop\\ppp\")]\n",
    "for i in range(len(images)):\n",
    "#    im = Image.fromarray(images[i])\n",
    "#    cv2.imwrite(str(path) + '.jpg', images[count])\n",
    "    cv2.imwrite(os.path.join(path, 'pic.jpg'), images[count])\n",
    "    count+=1"
   ]
  },
  {
   "cell_type": "code",
   "execution_count": null,
   "metadata": {},
   "outputs": [],
   "source": []
  },
  {
   "cell_type": "code",
   "execution_count": null,
   "metadata": {},
   "outputs": [],
   "source": []
  }
 ],
 "metadata": {
  "kernelspec": {
   "display_name": "Python 3",
   "language": "python",
   "name": "python3"
  },
  "language_info": {
   "codemirror_mode": {
    "name": "ipython",
    "version": 3
   },
   "file_extension": ".py",
   "mimetype": "text/x-python",
   "name": "python",
   "nbconvert_exporter": "python",
   "pygments_lexer": "ipython3",
   "version": "3.7.4"
  }
 },
 "nbformat": 4,
 "nbformat_minor": 2
}
